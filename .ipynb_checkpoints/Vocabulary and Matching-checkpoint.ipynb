{
 "cells": [
  {
   "cell_type": "markdown",
   "id": "e6887a8d",
   "metadata": {},
   "source": [
    "# Vocabulary and Matching"
   ]
  },
  {
   "cell_type": "markdown",
   "id": "62cc60f2",
   "metadata": {},
   "source": [
    "## Rule based matching"
   ]
  },
  {
   "cell_type": "code",
   "execution_count": 1,
   "id": "50f5a0c7",
   "metadata": {},
   "outputs": [],
   "source": [
    "# import spacy"
   ]
  },
  {
   "cell_type": "code",
   "execution_count": 17,
   "id": "5451d4f6",
   "metadata": {},
   "outputs": [],
   "source": [
    "from spacy.matcher import Matcher\n",
    "from spacy import load\n",
    "nlp = load('en_core_web_md')"
   ]
  },
  {
   "cell_type": "code",
   "execution_count": 18,
   "id": "b21c56b6",
   "metadata": {},
   "outputs": [],
   "source": [
    "matcher = Matcher(nlp.vocab)"
   ]
  },
  {
   "cell_type": "code",
   "execution_count": 19,
   "id": "59caeed0",
   "metadata": {},
   "outputs": [],
   "source": [
    "pat1 = [{'LOWER':'hello'}, {'LOWER':'world'}]\n",
    "pat2 = [{'LOWER': 'hello'}, {'IS_PUNCT': True}, {'LOWER': 'world'}]"
   ]
  },
  {
   "cell_type": "code",
   "execution_count": 22,
   "id": "51eb5dcd",
   "metadata": {},
   "outputs": [],
   "source": [
    "s1 = 'Hello world'\n",
    "matcher.add(s1, [pat1, pat2])"
   ]
  },
  {
   "cell_type": "code",
   "execution_count": 27,
   "id": "f06e4a9b",
   "metadata": {},
   "outputs": [
    {
     "data": {
      "text/plain": [
       " Hello World are the first two words. "
      ]
     },
     "execution_count": 27,
     "metadata": {},
     "output_type": "execute_result"
    }
   ],
   "source": [
    "doc = nlp(\" Hello World are the first two words. \")\n",
    "doc"
   ]
  },
  {
   "cell_type": "code",
   "execution_count": 28,
   "id": "8bc14394",
   "metadata": {},
   "outputs": [],
   "source": [
    "find_matches = matcher(doc)"
   ]
  },
  {
   "cell_type": "code",
   "execution_count": 29,
   "id": "279ca9d1",
   "metadata": {},
   "outputs": [
    {
     "name": "stdout",
     "output_type": "stream",
     "text": [
      "[(6760932446404879437, 1, 3)]\n"
     ]
    }
   ],
   "source": [
    "print(find_matches)"
   ]
  },
  {
   "cell_type": "code",
   "execution_count": 30,
   "id": "564fb3bb",
   "metadata": {},
   "outputs": [
    {
     "name": "stdout",
     "output_type": "stream",
     "text": [
      "6760932446404879437 Hello world 1 3 Hello World\n"
     ]
    }
   ],
   "source": [
    "for match_id, start, end in find_matches:\n",
    "    string_id = nlp.vocab.strings[match_id]\n",
    "    span = doc[start:end]\n",
    "    print(match_id, string_id, start, end, span)"
   ]
  },
  {
   "cell_type": "markdown",
   "id": "94e4b0fc",
   "metadata": {},
   "source": [
    "## Phrase Matching"
   ]
  },
  {
   "cell_type": "code",
   "execution_count": 42,
   "id": "d0c5fb9e",
   "metadata": {},
   "outputs": [],
   "source": [
    "from spacy.matcher import PhraseMatcher\n",
    "matcher = PhraseMatcher(nlp.vocab)\n",
    "text = \"\"\"\n",
    "Barack Hussein Obama II (/bəˈrɑːk huːˈseɪn oʊˈbɑːmə/ (listen) bə-RAHK hoo-SAYN oh-BAH-mə;[1] born August 4, 1961) is an American former politician who served as the 44th president of the United States from 2009 to 2017. A member of the Democratic Party, he was the first African-American president of the United States.[2] Obama previously served as a U.S. senator representing Illinois from 2005 to 2008 and as an Illinois state senator from 1997 to 2004, and worked as a civil rights lawyer before holding public office.\n",
    "\"\"\""
   ]
  },
  {
   "cell_type": "code",
   "execution_count": 43,
   "id": "825b7696",
   "metadata": {},
   "outputs": [],
   "source": [
    "phrase_list = [\"Barack\", \"United States\", \"American\"]"
   ]
  },
  {
   "cell_type": "code",
   "execution_count": 44,
   "id": "a439d16b",
   "metadata": {},
   "outputs": [
    {
     "data": {
      "text/plain": [
       "[Barack, United States, American]"
      ]
     },
     "execution_count": 44,
     "metadata": {},
     "output_type": "execute_result"
    }
   ],
   "source": [
    "phrase_patterns = [nlp(text) for text in phrase_list]\n",
    "phrase_patterns"
   ]
  },
  {
   "cell_type": "code",
   "execution_count": 45,
   "id": "3672679a",
   "metadata": {},
   "outputs": [
    {
     "data": {
      "text/plain": [
       "spacy.tokens.doc.Doc"
      ]
     },
     "execution_count": 45,
     "metadata": {},
     "output_type": "execute_result"
    }
   ],
   "source": [
    "type(phrase_patterns[0])"
   ]
  },
  {
   "cell_type": "code",
   "execution_count": 46,
   "id": "73b24cf4",
   "metadata": {},
   "outputs": [],
   "source": [
    "matcher.add(\"TerminologyList\", phrase_patterns)"
   ]
  },
  {
   "cell_type": "code",
   "execution_count": 47,
   "id": "9f0bcb87",
   "metadata": {},
   "outputs": [],
   "source": [
    "doc = nlp(text)"
   ]
  },
  {
   "cell_type": "code",
   "execution_count": 48,
   "id": "97299615",
   "metadata": {},
   "outputs": [],
   "source": [
    "find_matches = matcher(doc)"
   ]
  },
  {
   "cell_type": "code",
   "execution_count": 49,
   "id": "2b78b2c6",
   "metadata": {
    "collapsed": true
   },
   "outputs": [
    {
     "name": "stdout",
     "output_type": "stream",
     "text": [
      "[(3766102292120407359, 1, 2), (3766102292120407359, 32, 33), (3766102292120407359, 43, 45), (3766102292120407359, 63, 64)]\n"
     ]
    }
   ],
   "source": [
    "print(find_matches)"
   ]
  },
  {
   "cell_type": "code",
   "execution_count": 50,
   "id": "8f16b58f",
   "metadata": {},
   "outputs": [
    {
     "name": "stdout",
     "output_type": "stream",
     "text": [
      "3766102292120407359 TerminologyList 1 2 Barack\n",
      "3766102292120407359 TerminologyList 32 33 American\n",
      "3766102292120407359 TerminologyList 43 45 United States\n",
      "3766102292120407359 TerminologyList 63 64 American\n"
     ]
    }
   ],
   "source": [
    "for match_id, start, end in find_matches:\n",
    "    string_id = nlp.vocab.strings[match_id]\n",
    "    span = doc[start:end]\n",
    "    print(match_id, string_id, start, end, span)"
   ]
  }
 ],
 "metadata": {
  "kernelspec": {
   "display_name": "nlpCourse",
   "language": "python",
   "name": "nlpcourse"
  },
  "language_info": {
   "codemirror_mode": {
    "name": "ipython",
    "version": 3
   },
   "file_extension": ".py",
   "mimetype": "text/x-python",
   "name": "python",
   "nbconvert_exporter": "python",
   "pygments_lexer": "ipython3",
   "version": "3.10.4"
  }
 },
 "nbformat": 4,
 "nbformat_minor": 5
}
